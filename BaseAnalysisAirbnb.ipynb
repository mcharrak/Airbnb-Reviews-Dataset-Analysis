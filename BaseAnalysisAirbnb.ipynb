{
 "cells": [
  {
   "cell_type": "code",
   "execution_count": 20,
   "metadata": {
    "collapsed": true
   },
   "outputs": [],
   "source": [
    "# Analyze a single city -> New York"
   ]
  },
  {
   "cell_type": "code",
   "execution_count": 21,
   "metadata": {
    "collapsed": false
   },
   "outputs": [],
   "source": [
    "# Cleaning the data\n",
    "%matplotlib inline\n",
    "import matplotlib.pyplot as plt\n",
    "from nltk.corpus import stopwords\n",
    "import string\n",
    "import nltk\n",
    "import pandas as pd\n",
    "import numpy as np\n",
    "from collections import Counter\n",
    "np.random.seed(42)\n",
    "#import sys\n",
    "#reload(sys)\n",
    "#sys.setdefaultencoding('utf8')"
   ]
  },
  {
   "cell_type": "code",
   "execution_count": 22,
   "metadata": {
    "collapsed": false
   },
   "outputs": [
    {
     "name": "stdout",
     "output_type": "stream",
     "text": [
      "94.4112237828\n",
      "93.5000324802\n"
     ]
    },
    {
     "data": {
      "text/html": [
       "<div>\n",
       "<style>\n",
       "    .dataframe thead tr:only-child th {\n",
       "        text-align: right;\n",
       "    }\n",
       "\n",
       "    .dataframe thead th {\n",
       "        text-align: left;\n",
       "    }\n",
       "\n",
       "    .dataframe tbody tr th {\n",
       "        vertical-align: top;\n",
       "    }\n",
       "</style>\n",
       "<table border=\"1\" class=\"dataframe\">\n",
       "  <thead>\n",
       "    <tr style=\"text-align: right;\">\n",
       "      <th></th>\n",
       "      <th>id</th>\n",
       "      <th>name</th>\n",
       "      <th>summary</th>\n",
       "      <th>longitude</th>\n",
       "      <th>latitude</th>\n",
       "      <th>space</th>\n",
       "      <th>description</th>\n",
       "      <th>instant_bookable</th>\n",
       "      <th>neighborhood_overview</th>\n",
       "      <th>neighbourhood_cleansed</th>\n",
       "      <th>...</th>\n",
       "      <th>room_type</th>\n",
       "      <th>accommodates</th>\n",
       "      <th>bathrooms</th>\n",
       "      <th>bedrooms</th>\n",
       "      <th>beds</th>\n",
       "      <th>reviews_per_month</th>\n",
       "      <th>amenities</th>\n",
       "      <th>cancellation_policy</th>\n",
       "      <th>number_of_reviews</th>\n",
       "      <th>price</th>\n",
       "    </tr>\n",
       "  </thead>\n",
       "  <tbody>\n",
       "    <tr>\n",
       "      <th>1</th>\n",
       "      <td>20702398</td>\n",
       "      <td>Quiet house on City Island</td>\n",
       "      <td>1 private bedroom and bathroom available for o...</td>\n",
       "      <td>-73.786509</td>\n",
       "      <td>40.849191</td>\n",
       "      <td>0</td>\n",
       "      <td>1 private bedroom and bathroom available for o...</td>\n",
       "      <td>f</td>\n",
       "      <td>This neighborhood is dope! Lot's of seafood re...</td>\n",
       "      <td>City Island</td>\n",
       "      <td>...</td>\n",
       "      <td>Private room</td>\n",
       "      <td>2</td>\n",
       "      <td>1.0</td>\n",
       "      <td>1.0</td>\n",
       "      <td>1.0</td>\n",
       "      <td>2.00</td>\n",
       "      <td>{\"Wireless Internet\",\"Air conditioning\",Kitche...</td>\n",
       "      <td>moderate</td>\n",
       "      <td>2</td>\n",
       "      <td>50.0</td>\n",
       "    </tr>\n",
       "    <tr>\n",
       "      <th>2</th>\n",
       "      <td>6627449</td>\n",
       "      <td>Large 1 BDRM in Great location</td>\n",
       "      <td>This ground floor apartment is light and airy ...</td>\n",
       "      <td>-73.786609</td>\n",
       "      <td>40.849775</td>\n",
       "      <td>We are close to fishing, boating, biking, hors...</td>\n",
       "      <td>This ground floor apartment is light and airy ...</td>\n",
       "      <td>f</td>\n",
       "      <td>City Island is a unique and a hidden gem of Ne...</td>\n",
       "      <td>City Island</td>\n",
       "      <td>...</td>\n",
       "      <td>Entire home/apt</td>\n",
       "      <td>3</td>\n",
       "      <td>1.0</td>\n",
       "      <td>1.0</td>\n",
       "      <td>1.0</td>\n",
       "      <td>0.77</td>\n",
       "      <td>{TV,Internet,\"Wireless Internet\",\"Air conditio...</td>\n",
       "      <td>strict</td>\n",
       "      <td>21</td>\n",
       "      <td>125.0</td>\n",
       "    </tr>\n",
       "    <tr>\n",
       "      <th>5</th>\n",
       "      <td>5557381</td>\n",
       "      <td>Quaint City Island Home</td>\n",
       "      <td>Located in an old sea-shanty town, our home ha...</td>\n",
       "      <td>-73.789328</td>\n",
       "      <td>40.850024</td>\n",
       "      <td>You won't find a place so close to the city (N...</td>\n",
       "      <td>Located in an old sea-shanty town, our home ha...</td>\n",
       "      <td>t</td>\n",
       "      <td>City Island is unique in two ways. First, you ...</td>\n",
       "      <td>City Island</td>\n",
       "      <td>...</td>\n",
       "      <td>Private room</td>\n",
       "      <td>4</td>\n",
       "      <td>1.0</td>\n",
       "      <td>1.0</td>\n",
       "      <td>1.0</td>\n",
       "      <td>3.27</td>\n",
       "      <td>{Internet,\"Wireless Internet\",\"Air conditionin...</td>\n",
       "      <td>moderate</td>\n",
       "      <td>94</td>\n",
       "      <td>69.0</td>\n",
       "    </tr>\n",
       "    <tr>\n",
       "      <th>6</th>\n",
       "      <td>19609887</td>\n",
       "      <td>Sweet Getaway</td>\n",
       "      <td>Getaway for two (2) or up to seven (7), nice s...</td>\n",
       "      <td>-73.789304</td>\n",
       "      <td>40.851980</td>\n",
       "      <td>$150 first  two guests per night, $25 each add...</td>\n",
       "      <td>Getaway for two (2) or up to seven (7), nice s...</td>\n",
       "      <td>f</td>\n",
       "      <td>If you enjoy seafood, City Island is the place...</td>\n",
       "      <td>City Island</td>\n",
       "      <td>...</td>\n",
       "      <td>Entire home/apt</td>\n",
       "      <td>7</td>\n",
       "      <td>1.0</td>\n",
       "      <td>2.0</td>\n",
       "      <td>5.0</td>\n",
       "      <td>1.58</td>\n",
       "      <td>{TV,\"Air conditioning\",Kitchen,\"Free parking o...</td>\n",
       "      <td>flexible</td>\n",
       "      <td>3</td>\n",
       "      <td>150.0</td>\n",
       "    </tr>\n",
       "    <tr>\n",
       "      <th>7</th>\n",
       "      <td>7949480</td>\n",
       "      <td>City Island Sanctuary BR &amp; Private Bath w Parking</td>\n",
       "      <td>Relax on City Island in our quiet guest room w...</td>\n",
       "      <td>-73.788680</td>\n",
       "      <td>40.852054</td>\n",
       "      <td>On parle français et anglais, (lire le françai...</td>\n",
       "      <td>Relax on City Island in our quiet guest room w...</td>\n",
       "      <td>f</td>\n",
       "      <td>City Island is a unique sanctuary in New York ...</td>\n",
       "      <td>City Island</td>\n",
       "      <td>...</td>\n",
       "      <td>Private room</td>\n",
       "      <td>2</td>\n",
       "      <td>1.0</td>\n",
       "      <td>1.0</td>\n",
       "      <td>1.0</td>\n",
       "      <td>1.49</td>\n",
       "      <td>{\"Cable TV\",\"Wireless Internet\",\"Air condition...</td>\n",
       "      <td>moderate</td>\n",
       "      <td>31</td>\n",
       "      <td>101.0</td>\n",
       "    </tr>\n",
       "  </tbody>\n",
       "</table>\n",
       "<p>5 rows × 28 columns</p>\n",
       "</div>"
      ],
      "text/plain": [
       "         id                                               name  \\\n",
       "1  20702398                         Quiet house on City Island   \n",
       "2   6627449                     Large 1 BDRM in Great location   \n",
       "5   5557381                            Quaint City Island Home   \n",
       "6  19609887                                      Sweet Getaway   \n",
       "7   7949480  City Island Sanctuary BR & Private Bath w Parking   \n",
       "\n",
       "                                             summary  longitude   latitude  \\\n",
       "1  1 private bedroom and bathroom available for o... -73.786509  40.849191   \n",
       "2  This ground floor apartment is light and airy ... -73.786609  40.849775   \n",
       "5  Located in an old sea-shanty town, our home ha... -73.789328  40.850024   \n",
       "6  Getaway for two (2) or up to seven (7), nice s... -73.789304  40.851980   \n",
       "7  Relax on City Island in our quiet guest room w... -73.788680  40.852054   \n",
       "\n",
       "                                               space  \\\n",
       "1                                                  0   \n",
       "2  We are close to fishing, boating, biking, hors...   \n",
       "5  You won't find a place so close to the city (N...   \n",
       "6  $150 first  two guests per night, $25 each add...   \n",
       "7  On parle français et anglais, (lire le françai...   \n",
       "\n",
       "                                         description instant_bookable  \\\n",
       "1  1 private bedroom and bathroom available for o...                f   \n",
       "2  This ground floor apartment is light and airy ...                f   \n",
       "5  Located in an old sea-shanty town, our home ha...                t   \n",
       "6  Getaway for two (2) or up to seven (7), nice s...                f   \n",
       "7  Relax on City Island in our quiet guest room w...                f   \n",
       "\n",
       "                               neighborhood_overview neighbourhood_cleansed  \\\n",
       "1  This neighborhood is dope! Lot's of seafood re...            City Island   \n",
       "2  City Island is a unique and a hidden gem of Ne...            City Island   \n",
       "5  City Island is unique in two ways. First, you ...            City Island   \n",
       "6  If you enjoy seafood, City Island is the place...            City Island   \n",
       "7  City Island is a unique sanctuary in New York ...            City Island   \n",
       "\n",
       "   ...          room_type accommodates bathrooms bedrooms beds  \\\n",
       "1  ...       Private room            2       1.0      1.0  1.0   \n",
       "2  ...    Entire home/apt            3       1.0      1.0  1.0   \n",
       "5  ...       Private room            4       1.0      1.0  1.0   \n",
       "6  ...    Entire home/apt            7       1.0      2.0  5.0   \n",
       "7  ...       Private room            2       1.0      1.0  1.0   \n",
       "\n",
       "  reviews_per_month                                          amenities  \\\n",
       "1              2.00  {\"Wireless Internet\",\"Air conditioning\",Kitche...   \n",
       "2              0.77  {TV,Internet,\"Wireless Internet\",\"Air conditio...   \n",
       "5              3.27  {Internet,\"Wireless Internet\",\"Air conditionin...   \n",
       "6              1.58  {TV,\"Air conditioning\",Kitchen,\"Free parking o...   \n",
       "7              1.49  {\"Cable TV\",\"Wireless Internet\",\"Air condition...   \n",
       "\n",
       "  cancellation_policy number_of_reviews  price  \n",
       "1            moderate                 2   50.0  \n",
       "2              strict                21  125.0  \n",
       "5            moderate                94   69.0  \n",
       "6            flexible                 3  150.0  \n",
       "7            moderate                31  101.0  \n",
       "\n",
       "[5 rows x 28 columns]"
      ]
     },
     "execution_count": 22,
     "metadata": {},
     "output_type": "execute_result"
    }
   ],
   "source": [
    "inputDF = pd.read_csv('listings_copenhagen.csv')\n",
    "inputDF=inputDF[['id','name','summary','longitude','latitude','space','description','instant_bookable','neighborhood_overview','neighbourhood_cleansed','host_id','host_name','host_since',\n",
    "                 'host_response_time','street', 'zipcode','review_scores_rating','property_type','room_type','accommodates','bathrooms','bedrooms','beds','reviews_per_month','amenities','cancellation_policy','number_of_reviews','price']]\n",
    "\n",
    "# replacing NaN values with 0\n",
    "inputDF.fillna(0, inplace=True)\n",
    "\n",
    "\n",
    "#Extracting prices from the table\n",
    "price = inputDF['price']\n",
    "prices=[]\n",
    "\n",
    "#clean the data to make it float\n",
    "for p in price:\n",
    "    p=float(p[1:].replace(',',''))\n",
    "    prices.append(p)\n",
    "\n",
    "#replace the price column with the new column\n",
    "inputDF['price']=prices\n",
    "\n",
    "\n",
    "#exclude the listings with 0 for price,beds,bedrooms,accomodates etc\n",
    "inputDF = inputDF[inputDF.bathrooms >0]\n",
    "inputDF = inputDF[inputDF.bedrooms > 0]\n",
    "inputDF = inputDF[inputDF.beds > 0]\n",
    "inputDF = inputDF[inputDF.price  > 0]\n",
    "inputDF = inputDF[inputDF.review_scores_rating  > 0]\n",
    "inputDF = inputDF[inputDF.reviews_per_month > 0]\n",
    "inputDF = inputDF[inputDF.accommodates  > 0]\n",
    "\n",
    "print inputDF.review_scores_rating.mean()\n",
    "\n",
    "#Currency adaption\n",
    "def currency_exchange(prices,conversion_factor):\n",
    "    converted_prices = conversion_factor*prices\n",
    "    return converted_prices\n",
    "\n",
    "\n",
    "# Convert price to American Dollar\n",
    "# USA factor= 1.00\n",
    "# Sydney factor: 0.76\n",
    "# Copenhagen factor: 0.16\n",
    "price_values = inputDF.price.values\n",
    "converted_prices = currency_exchange(price_values,conversion_factor=0.16)\n",
    "inputDF['price'] = converted_prices\n",
    "\n",
    "#new view of dataset\n",
    "inputDF.head()\n",
    "\n",
    "\n",
    "\n",
    "############################### Different city ##############################\n",
    "listing_ny = pd.read_csv('listings_new_york.csv')\n",
    "listing_ny=listing_ny[['id','name','summary','longitude','latitude','space','description','instant_bookable','neighborhood_overview','neighbourhood_cleansed','host_id','host_name','host_since',\n",
    "                 'host_response_time','street', 'zipcode','review_scores_rating','property_type','room_type','accommodates','bathrooms','bedrooms','beds','reviews_per_month','amenities','cancellation_policy','number_of_reviews','price']]\n",
    "\n",
    "# replacing NaN values with 0\n",
    "listing_ny.fillna(0, inplace=True)\n",
    "\n",
    "\n",
    "#Extracting prices from the table\n",
    "price = listing_ny['price']\n",
    "prices=[]\n",
    "\n",
    "#clean the data to make it float\n",
    "for p in price:\n",
    "    p=float(p[1:].replace(',',''))\n",
    "    prices.append(p)\n",
    "\n",
    "#replace the price column with the new column\n",
    "listing_ny['price']=prices\n",
    "\n",
    "\n",
    "#exclude the listings with 0 for price,beds,bedrooms,accomodates etc\n",
    "listing_ny = listing_ny[listing_ny.bathrooms >0]\n",
    "listing_ny = listing_ny[listing_ny.bedrooms > 0]\n",
    "listing_ny = listing_ny[listing_ny.beds > 0]\n",
    "listing_ny = listing_ny[listing_ny.price  > 0]\n",
    "listing_ny = listing_ny[listing_ny.review_scores_rating  > 0]\n",
    "listing_ny = listing_ny[listing_ny.reviews_per_month > 0]\n",
    "listing_ny = listing_ny[listing_ny.accommodates  > 0]\n",
    "\n",
    "print listing_ny.review_scores_rating.mean()\n",
    "\n",
    "#Currency adaption\n",
    "def currency_exchange(prices,conversion_factor):\n",
    "    converted_prices = conversion_factor*prices\n",
    "    return converted_prices\n",
    "\n",
    "\n",
    "# Convert price to American Dollar\n",
    "# USA factor= 1.00\n",
    "# Sydney factor: 0.76\n",
    "# Copenhagen factor: 0.16\n",
    "price_values = listing_ny.price.values\n",
    "converted_prices = currency_exchange(price_values,conversion_factor=1.00)\n",
    "listing_ny['price'] = converted_prices\n",
    "\n",
    "#new view of dataset\n",
    "listing_ny.head()\n"
   ]
  },
  {
   "cell_type": "code",
   "execution_count": 23,
   "metadata": {
    "collapsed": false
   },
   "outputs": [
    {
     "name": "stdout",
     "output_type": "stream",
     "text": [
      "30788\n",
      "15877\n"
     ]
    }
   ],
   "source": [
    "print len(listing_ny)\n",
    "print len(inputDF)"
   ]
  },
  {
   "cell_type": "code",
   "execution_count": 24,
   "metadata": {
    "collapsed": true
   },
   "outputs": [],
   "source": [
    "def bin_rating(rating):\n",
    "    if rating<=20:\n",
    "        return 1\n",
    "    elif rating<=40:\n",
    "        return 2\n",
    "    elif rating<=40:\n",
    "        return 2\n",
    "    elif rating<=60:\n",
    "        return 3\n",
    "    elif rating<=80:\n",
    "        return 4\n",
    "    else:\n",
    "        return 5"
   ]
  },
  {
   "cell_type": "code",
   "execution_count": 25,
   "metadata": {
    "collapsed": false
   },
   "outputs": [],
   "source": [
    "new_ratings = inputDF.review_scores_rating.apply(bin_rating)\n",
    "#Replace the rating column with the new column\n",
    "inputDF.review_scores_rating=new_ratings\n",
    "\n",
    "#################### NEW CITY #####################  \n",
    "\n",
    "new_ratings = listing_ny.review_scores_rating.apply(bin_rating)\n",
    "#Replace the rating column with the new column\n",
    "listing_ny.review_scores_rating=new_ratings"
   ]
  },
  {
   "cell_type": "code",
   "execution_count": 26,
   "metadata": {
    "collapsed": false
   },
   "outputs": [
    {
     "data": {
      "text/html": [
       "<div>\n",
       "<style>\n",
       "    .dataframe thead tr:only-child th {\n",
       "        text-align: right;\n",
       "    }\n",
       "\n",
       "    .dataframe thead th {\n",
       "        text-align: left;\n",
       "    }\n",
       "\n",
       "    .dataframe tbody tr th {\n",
       "        vertical-align: top;\n",
       "    }\n",
       "</style>\n",
       "<table border=\"1\" class=\"dataframe\">\n",
       "  <thead>\n",
       "    <tr style=\"text-align: right;\">\n",
       "      <th></th>\n",
       "      <th>summary</th>\n",
       "      <th>review_scores_rating</th>\n",
       "    </tr>\n",
       "  </thead>\n",
       "  <tbody>\n",
       "    <tr>\n",
       "      <th>5051</th>\n",
       "      <td>A private apartment  with 5 bedrooms, 2 bathro...</td>\n",
       "      <td>1</td>\n",
       "    </tr>\n",
       "    <tr>\n",
       "      <th>37773</th>\n",
       "      <td>The available room is the largest in the apart...</td>\n",
       "      <td>1</td>\n",
       "    </tr>\n",
       "    <tr>\n",
       "      <th>6973</th>\n",
       "      <td>Hello! We have a large room available in Bushw...</td>\n",
       "      <td>1</td>\n",
       "    </tr>\n",
       "    <tr>\n",
       "      <th>32507</th>\n",
       "      <td>Perfect One bedroom located in the heart of So...</td>\n",
       "      <td>1</td>\n",
       "    </tr>\n",
       "    <tr>\n",
       "      <th>17856</th>\n",
       "      <td>My room is very spacious  can  hold up to two ...</td>\n",
       "      <td>1</td>\n",
       "    </tr>\n",
       "  </tbody>\n",
       "</table>\n",
       "</div>"
      ],
      "text/plain": [
       "                                                 summary  review_scores_rating\n",
       "5051   A private apartment  with 5 bedrooms, 2 bathro...                     1\n",
       "37773  The available room is the largest in the apart...                     1\n",
       "6973   Hello! We have a large room available in Bushw...                     1\n",
       "32507  Perfect One bedroom located in the heart of So...                     1\n",
       "17856  My room is very spacious  can  hold up to two ...                     1"
      ]
     },
     "execution_count": 26,
     "metadata": {},
     "output_type": "execute_result"
    }
   ],
   "source": [
    "summaryDF = inputDF[['summary','review_scores_rating']]\n",
    "summaryDF = summaryDF[pd.notnull(summaryDF['summary'])]\n",
    "summaryDF = summaryDF[summaryDF['summary']!=0]\n",
    "summaryDF = summaryDF.sort_values('review_scores_rating',ascending=True)\n",
    "top100DF = summaryDF.head(100)\n",
    "top100DF.head()\n",
    "\n",
    "#################### NEW CITY #####################  \n",
    "\n",
    "summary_ny = listing_ny[['summary','review_scores_rating']]\n",
    "summary_ny = summary_ny[pd.notnull(summary_ny['summary'])]\n",
    "summary_ny = summary_ny[summary_ny['summary']!=0]\n",
    "summary_ny = summary_ny.sort_values('review_scores_rating',ascending=True)\n",
    "top100DF = summary_ny.head(100)\n",
    "top100DF.head()"
   ]
  },
  {
   "cell_type": "code",
   "execution_count": 27,
   "metadata": {
    "collapsed": false
   },
   "outputs": [
    {
     "data": {
      "text/plain": [
       "Index([u'id', u'name', u'summary', u'longitude', u'latitude', u'space',\n",
       "       u'description', u'instant_bookable', u'neighborhood_overview',\n",
       "       u'neighbourhood_cleansed', u'host_id', u'host_name', u'host_since',\n",
       "       u'host_response_time', u'street', u'zipcode', u'review_scores_rating',\n",
       "       u'property_type', u'room_type', u'accommodates', u'bathrooms',\n",
       "       u'bedrooms', u'beds', u'reviews_per_month', u'amenities',\n",
       "       u'cancellation_policy', u'number_of_reviews', u'price'],\n",
       "      dtype='object')"
      ]
     },
     "execution_count": 27,
     "metadata": {},
     "output_type": "execute_result"
    }
   ],
   "source": [
    "inputDF.columns"
   ]
  },
  {
   "cell_type": "code",
   "execution_count": 28,
   "metadata": {
    "collapsed": true
   },
   "outputs": [],
   "source": [
    "# Use the following predictors: neighbourhood_cleansed, host_response_time, review_scores_rating\n",
    "# property_type, room_type, accommodates, bathrooms, bedrooms, beds, reviews_per_month, canecellation_policy,\n",
    "# number_of_reviews, price"
   ]
  },
  {
   "cell_type": "code",
   "execution_count": 29,
   "metadata": {
    "collapsed": true
   },
   "outputs": [],
   "source": [
    "#Start prediction task create new predictDF with useful features\n",
    "predictDF=inputDF[['neighbourhood_cleansed','host_response_time','review_scores_rating','property_type','room_type','accommodates','bathrooms',\n",
    "                 'bedrooms','beds','reviews_per_month','cancellation_policy','number_of_reviews','price']]\n",
    "\n",
    "########################## NEW CITY ###########################  \n",
    "\n",
    "predict_ny=listing_ny[['neighbourhood_cleansed','host_response_time','review_scores_rating','property_type','room_type','accommodates','bathrooms',\n",
    "                 'bedrooms','beds','reviews_per_month','cancellation_policy','number_of_reviews','price']]"
   ]
  },
  {
   "cell_type": "code",
   "execution_count": 30,
   "metadata": {
    "collapsed": false
   },
   "outputs": [],
   "source": [
    "predictDF =  pd.get_dummies(predictDF)\n",
    "predict_ny = pd.get_dummies(predict_ny)"
   ]
  },
  {
   "cell_type": "code",
   "execution_count": 31,
   "metadata": {
    "collapsed": false
   },
   "outputs": [
    {
     "data": {
      "text/html": [
       "<div>\n",
       "<style>\n",
       "    .dataframe thead tr:only-child th {\n",
       "        text-align: right;\n",
       "    }\n",
       "\n",
       "    .dataframe thead th {\n",
       "        text-align: left;\n",
       "    }\n",
       "\n",
       "    .dataframe tbody tr th {\n",
       "        vertical-align: top;\n",
       "    }\n",
       "</style>\n",
       "<table border=\"1\" class=\"dataframe\">\n",
       "  <thead>\n",
       "    <tr style=\"text-align: right;\">\n",
       "      <th></th>\n",
       "      <th>review_scores_rating</th>\n",
       "      <th>accommodates</th>\n",
       "      <th>bathrooms</th>\n",
       "      <th>bedrooms</th>\n",
       "      <th>beds</th>\n",
       "      <th>reviews_per_month</th>\n",
       "      <th>number_of_reviews</th>\n",
       "      <th>price</th>\n",
       "      <th>neighbourhood_cleansed_Allerton</th>\n",
       "      <th>neighbourhood_cleansed_Arden Heights</th>\n",
       "      <th>...</th>\n",
       "      <th>property_type_Villa</th>\n",
       "      <th>property_type_Yurt</th>\n",
       "      <th>room_type_Entire home/apt</th>\n",
       "      <th>room_type_Private room</th>\n",
       "      <th>room_type_Shared room</th>\n",
       "      <th>cancellation_policy_flexible</th>\n",
       "      <th>cancellation_policy_moderate</th>\n",
       "      <th>cancellation_policy_strict</th>\n",
       "      <th>cancellation_policy_super_strict_30</th>\n",
       "      <th>cancellation_policy_super_strict_60</th>\n",
       "    </tr>\n",
       "  </thead>\n",
       "  <tbody>\n",
       "    <tr>\n",
       "      <th>1</th>\n",
       "      <td>5</td>\n",
       "      <td>2</td>\n",
       "      <td>1.0</td>\n",
       "      <td>1.0</td>\n",
       "      <td>1.0</td>\n",
       "      <td>2.00</td>\n",
       "      <td>2</td>\n",
       "      <td>50.0</td>\n",
       "      <td>0</td>\n",
       "      <td>0</td>\n",
       "      <td>...</td>\n",
       "      <td>0</td>\n",
       "      <td>0</td>\n",
       "      <td>0</td>\n",
       "      <td>1</td>\n",
       "      <td>0</td>\n",
       "      <td>0</td>\n",
       "      <td>1</td>\n",
       "      <td>0</td>\n",
       "      <td>0</td>\n",
       "      <td>0</td>\n",
       "    </tr>\n",
       "    <tr>\n",
       "      <th>2</th>\n",
       "      <td>5</td>\n",
       "      <td>3</td>\n",
       "      <td>1.0</td>\n",
       "      <td>1.0</td>\n",
       "      <td>1.0</td>\n",
       "      <td>0.77</td>\n",
       "      <td>21</td>\n",
       "      <td>125.0</td>\n",
       "      <td>0</td>\n",
       "      <td>0</td>\n",
       "      <td>...</td>\n",
       "      <td>0</td>\n",
       "      <td>0</td>\n",
       "      <td>1</td>\n",
       "      <td>0</td>\n",
       "      <td>0</td>\n",
       "      <td>0</td>\n",
       "      <td>0</td>\n",
       "      <td>1</td>\n",
       "      <td>0</td>\n",
       "      <td>0</td>\n",
       "    </tr>\n",
       "    <tr>\n",
       "      <th>5</th>\n",
       "      <td>5</td>\n",
       "      <td>4</td>\n",
       "      <td>1.0</td>\n",
       "      <td>1.0</td>\n",
       "      <td>1.0</td>\n",
       "      <td>3.27</td>\n",
       "      <td>94</td>\n",
       "      <td>69.0</td>\n",
       "      <td>0</td>\n",
       "      <td>0</td>\n",
       "      <td>...</td>\n",
       "      <td>0</td>\n",
       "      <td>0</td>\n",
       "      <td>0</td>\n",
       "      <td>1</td>\n",
       "      <td>0</td>\n",
       "      <td>0</td>\n",
       "      <td>1</td>\n",
       "      <td>0</td>\n",
       "      <td>0</td>\n",
       "      <td>0</td>\n",
       "    </tr>\n",
       "    <tr>\n",
       "      <th>6</th>\n",
       "      <td>5</td>\n",
       "      <td>7</td>\n",
       "      <td>1.0</td>\n",
       "      <td>2.0</td>\n",
       "      <td>5.0</td>\n",
       "      <td>1.58</td>\n",
       "      <td>3</td>\n",
       "      <td>150.0</td>\n",
       "      <td>0</td>\n",
       "      <td>0</td>\n",
       "      <td>...</td>\n",
       "      <td>0</td>\n",
       "      <td>0</td>\n",
       "      <td>1</td>\n",
       "      <td>0</td>\n",
       "      <td>0</td>\n",
       "      <td>1</td>\n",
       "      <td>0</td>\n",
       "      <td>0</td>\n",
       "      <td>0</td>\n",
       "      <td>0</td>\n",
       "    </tr>\n",
       "    <tr>\n",
       "      <th>7</th>\n",
       "      <td>5</td>\n",
       "      <td>2</td>\n",
       "      <td>1.0</td>\n",
       "      <td>1.0</td>\n",
       "      <td>1.0</td>\n",
       "      <td>1.49</td>\n",
       "      <td>31</td>\n",
       "      <td>101.0</td>\n",
       "      <td>0</td>\n",
       "      <td>0</td>\n",
       "      <td>...</td>\n",
       "      <td>0</td>\n",
       "      <td>0</td>\n",
       "      <td>0</td>\n",
       "      <td>1</td>\n",
       "      <td>0</td>\n",
       "      <td>0</td>\n",
       "      <td>1</td>\n",
       "      <td>0</td>\n",
       "      <td>0</td>\n",
       "      <td>0</td>\n",
       "    </tr>\n",
       "  </tbody>\n",
       "</table>\n",
       "<p>5 rows × 255 columns</p>\n",
       "</div>"
      ],
      "text/plain": [
       "   review_scores_rating  accommodates  bathrooms  bedrooms  beds  \\\n",
       "1                     5             2        1.0       1.0   1.0   \n",
       "2                     5             3        1.0       1.0   1.0   \n",
       "5                     5             4        1.0       1.0   1.0   \n",
       "6                     5             7        1.0       2.0   5.0   \n",
       "7                     5             2        1.0       1.0   1.0   \n",
       "\n",
       "   reviews_per_month  number_of_reviews  price  \\\n",
       "1               2.00                  2   50.0   \n",
       "2               0.77                 21  125.0   \n",
       "5               3.27                 94   69.0   \n",
       "6               1.58                  3  150.0   \n",
       "7               1.49                 31  101.0   \n",
       "\n",
       "   neighbourhood_cleansed_Allerton  neighbourhood_cleansed_Arden Heights  \\\n",
       "1                                0                                     0   \n",
       "2                                0                                     0   \n",
       "5                                0                                     0   \n",
       "6                                0                                     0   \n",
       "7                                0                                     0   \n",
       "\n",
       "                  ...                   property_type_Villa  \\\n",
       "1                 ...                                     0   \n",
       "2                 ...                                     0   \n",
       "5                 ...                                     0   \n",
       "6                 ...                                     0   \n",
       "7                 ...                                     0   \n",
       "\n",
       "   property_type_Yurt  room_type_Entire home/apt  room_type_Private room  \\\n",
       "1                   0                          0                       1   \n",
       "2                   0                          1                       0   \n",
       "5                   0                          0                       1   \n",
       "6                   0                          1                       0   \n",
       "7                   0                          0                       1   \n",
       "\n",
       "   room_type_Shared room  cancellation_policy_flexible  \\\n",
       "1                      0                             0   \n",
       "2                      0                             0   \n",
       "5                      0                             0   \n",
       "6                      0                             1   \n",
       "7                      0                             0   \n",
       "\n",
       "   cancellation_policy_moderate  cancellation_policy_strict  \\\n",
       "1                             1                           0   \n",
       "2                             0                           1   \n",
       "5                             1                           0   \n",
       "6                             0                           0   \n",
       "7                             1                           0   \n",
       "\n",
       "   cancellation_policy_super_strict_30  cancellation_policy_super_strict_60  \n",
       "1                                    0                                    0  \n",
       "2                                    0                                    0  \n",
       "5                                    0                                    0  \n",
       "6                                    0                                    0  \n",
       "7                                    0                                    0  \n",
       "\n",
       "[5 rows x 255 columns]"
      ]
     },
     "execution_count": 31,
     "metadata": {},
     "output_type": "execute_result"
    }
   ],
   "source": [
    "predictDF.head()\n",
    "predict_ny.head()"
   ]
  },
  {
   "cell_type": "code",
   "execution_count": 32,
   "metadata": {
    "collapsed": false
   },
   "outputs": [
    {
     "data": {
      "text/plain": [
       "Index([u'review_scores_rating', u'accommodates', u'bathrooms', u'bedrooms',\n",
       "       u'beds', u'reviews_per_month', u'number_of_reviews', u'price',\n",
       "       u'neighbourhood_cleansed_Amager Vest',\n",
       "       u'neighbourhood_cleansed_Amager st',\n",
       "       u'neighbourhood_cleansed_Bispebjerg',\n",
       "       u'neighbourhood_cleansed_Brnshj-Husum',\n",
       "       u'neighbourhood_cleansed_Frederiksberg',\n",
       "       u'neighbourhood_cleansed_Indre By', u'neighbourhood_cleansed_Nrrebro',\n",
       "       u'neighbourhood_cleansed_Valby', u'neighbourhood_cleansed_Vanlse',\n",
       "       u'neighbourhood_cleansed_Vesterbro-Kongens Enghave',\n",
       "       u'neighbourhood_cleansed_sterbro', u'host_response_time_0',\n",
       "       u'host_response_time_a few days or more',\n",
       "       u'host_response_time_within a day',\n",
       "       u'host_response_time_within a few hours',\n",
       "       u'host_response_time_within an hour', u'property_type_Apartment',\n",
       "       u'property_type_Bed & Breakfast', u'property_type_Boat',\n",
       "       u'property_type_Boutique hotel', u'property_type_Bungalow',\n",
       "       u'property_type_Cabin', u'property_type_Camper/RV',\n",
       "       u'property_type_Condominium', u'property_type_Dorm',\n",
       "       u'property_type_Guest suite', u'property_type_Guesthouse',\n",
       "       u'property_type_House', u'property_type_Hut',\n",
       "       u'property_type_Lighthouse', u'property_type_Loft',\n",
       "       u'property_type_Other', u'property_type_Serviced apartment',\n",
       "       u'property_type_Tent', u'property_type_Townhouse',\n",
       "       u'property_type_Treehouse', u'property_type_Villa',\n",
       "       u'room_type_Entire home/apt', u'room_type_Private room',\n",
       "       u'room_type_Shared room', u'cancellation_policy_flexible',\n",
       "       u'cancellation_policy_moderate', u'cancellation_policy_strict'],\n",
       "      dtype='object')"
      ]
     },
     "execution_count": 32,
     "metadata": {},
     "output_type": "execute_result"
    }
   ],
   "source": [
    "#predictDF.to_csv('sydney_predictors.csv')\n",
    "predictDF.columns"
   ]
  },
  {
   "cell_type": "code",
   "execution_count": 33,
   "metadata": {
    "collapsed": false
   },
   "outputs": [],
   "source": [
    "X_df = predictDF.iloc[:, predictDF.columns != 'review_scores_rating']\n",
    "y_df = predictDF.review_scores_rating\n",
    "####NEW DATA######\n",
    "X_df_ny = predict_ny.iloc[:, predict_ny.columns != 'review_scores_rating']\n",
    "y_df_ny = predict_ny.review_scores_rating"
   ]
  },
  {
   "cell_type": "code",
   "execution_count": 34,
   "metadata": {
    "collapsed": false
   },
   "outputs": [
    {
     "name": "stdout",
     "output_type": "stream",
     "text": [
      "Number of features Copenhagen: 50\n",
      "Number of listings Copenhagen: 15877\n",
      "Number of features New York: 254\n",
      "Number of listings New York: 30788\n"
     ]
    }
   ],
   "source": [
    "print \"Number of features Copenhagen:\",len(X_df.columns)\n",
    "print \"Number of listings Copenhagen:\",len(X_df)\n",
    "####NEW DATA######\n",
    "print \"Number of features New York:\",len(X_df_ny.columns)\n",
    "print \"Number of listings New York:\",len(X_df_ny)"
   ]
  },
  {
   "cell_type": "code",
   "execution_count": 35,
   "metadata": {
    "collapsed": false
   },
   "outputs": [
    {
     "name": "stdout",
     "output_type": "stream",
     "text": [
      "15877\n",
      "30788\n"
     ]
    }
   ],
   "source": [
    "print len(X_df)\n",
    "print len(X_df_ny)"
   ]
  },
  {
   "cell_type": "code",
   "execution_count": 51,
   "metadata": {
    "collapsed": false
   },
   "outputs": [],
   "source": [
    "#Baseline models\n",
    "# select columns by regular expression\n",
    "neighborhood_df = X_df.filter(regex='neighbourhood',axis=1)\n",
    "neighborhood_col_non_zero = (neighborhood_df != 0).sum()\n",
    "\n",
    "################### NEW DATA  ################### \n",
    "neighborhood_df_ny = X_df_ny.filter(regex='neighbourhood',axis=1)\n",
    "neighborhood_col_non_zero_ny = (neighborhood_df_ny != 0).sum()"
   ]
  },
  {
   "cell_type": "code",
   "execution_count": 52,
   "metadata": {
    "collapsed": false
   },
   "outputs": [
    {
     "name": "stdout",
     "output_type": "stream",
     "text": [
      "neighbourhood_cleansed_Amager Vest                  1322\n",
      "neighbourhood_cleansed_Amager st                    1098\n",
      "neighbourhood_cleansed_Bispebjerg                    787\n",
      "neighbourhood_cleansed_Brnshj-Husum                  232\n",
      "neighbourhood_cleansed_Frederiksberg                1918\n",
      "neighbourhood_cleansed_Indre By                     2311\n",
      "neighbourhood_cleansed_Nrrebro                      3138\n",
      "neighbourhood_cleansed_Valby                         576\n",
      "neighbourhood_cleansed_Vanlse                        410\n",
      "neighbourhood_cleansed_Vesterbro-Kongens Enghave    2552\n",
      "neighbourhood_cleansed_sterbro                      1533\n",
      "dtype: int64\n",
      "neighbourhood_cleansed_Allerton                22\n",
      "neighbourhood_cleansed_Arden Heights            4\n",
      "neighbourhood_cleansed_Arrochar                10\n",
      "neighbourhood_cleansed_Arverne                 59\n",
      "neighbourhood_cleansed_Astoria                602\n",
      "neighbourhood_cleansed_Bath Beach               6\n",
      "neighbourhood_cleansed_Battery Park City       21\n",
      "neighbourhood_cleansed_Bay Ridge               69\n",
      "neighbourhood_cleansed_Bay Terrace              6\n",
      "neighbourhood_cleansed_Baychester               3\n",
      "neighbourhood_cleansed_Bayside                 37\n",
      "neighbourhood_cleansed_Bayswater                8\n",
      "neighbourhood_cleansed_Bedford-Stuyvesant    2415\n",
      "neighbourhood_cleansed_Belle Harbor             2\n",
      "neighbourhood_cleansed_Bellerose                4\n",
      "neighbourhood_cleansed_Belmont                  4\n",
      "neighbourhood_cleansed_Bensonhurst             34\n",
      "neighbourhood_cleansed_Bergen Beach             3\n",
      "neighbourhood_cleansed_Boerum Hill            123\n",
      "neighbourhood_cleansed_Borough Park            53\n",
      "neighbourhood_cleansed_Briarwood               22\n",
      "neighbourhood_cleansed_Brighton Beach          31\n",
      "neighbourhood_cleansed_Bronxdale               14\n",
      "neighbourhood_cleansed_Brooklyn Heights        99\n",
      "neighbourhood_cleansed_Brownsville             37\n",
      "neighbourhood_cleansed_Bushwick              1599\n",
      "neighbourhood_cleansed_Cambria Heights          7\n",
      "neighbourhood_cleansed_Canarsie                69\n",
      "neighbourhood_cleansed_Carroll Gardens        183\n",
      "neighbourhood_cleansed_Castleton Corners        4\n",
      "                                             ... \n",
      "neighbourhood_cleansed_Sunnyside              200\n",
      "neighbourhood_cleansed_Sunset Park            229\n",
      "neighbourhood_cleansed_Theater District       117\n",
      "neighbourhood_cleansed_Throgs Neck              6\n",
      "neighbourhood_cleansed_Todt Hill                2\n",
      "neighbourhood_cleansed_Tompkinsville           19\n",
      "neighbourhood_cleansed_Tottenville              3\n",
      "neighbourhood_cleansed_Tremont                  7\n",
      "neighbourhood_cleansed_Tribeca                 95\n",
      "neighbourhood_cleansed_Two Bridges             44\n",
      "neighbourhood_cleansed_Unionport                4\n",
      "neighbourhood_cleansed_University Heights      17\n",
      "neighbourhood_cleansed_Upper East Side       1035\n",
      "neighbourhood_cleansed_Upper West Side       1236\n",
      "neighbourhood_cleansed_Van Nest                 3\n",
      "neighbourhood_cleansed_Vinegar Hill            29\n",
      "neighbourhood_cleansed_Wakefield               19\n",
      "neighbourhood_cleansed_Washington Heights     633\n",
      "neighbourhood_cleansed_West Brighton           11\n",
      "neighbourhood_cleansed_West Farms               3\n",
      "neighbourhood_cleansed_West Village           523\n",
      "neighbourhood_cleansed_Westchester Square       1\n",
      "neighbourhood_cleansed_Whitestone               4\n",
      "neighbourhood_cleansed_Williamsbridge          29\n",
      "neighbourhood_cleansed_Williamsburg          2829\n",
      "neighbourhood_cleansed_Windsor Terrace        122\n",
      "neighbourhood_cleansed_Woodhaven               36\n",
      "neighbourhood_cleansed_Woodlawn                 3\n",
      "neighbourhood_cleansed_Woodrow                  1\n",
      "neighbourhood_cleansed_Woodside               105\n",
      "Length: 208, dtype: int64\n"
     ]
    }
   ],
   "source": [
    "print neighborhood_col_non_zero\n",
    "print neighborhood_col_non_zero_ny"
   ]
  },
  {
   "cell_type": "code",
   "execution_count": 54,
   "metadata": {
    "collapsed": false
   },
   "outputs": [],
   "source": [
    "neighboorhood_averages = np.dot(y_df.values,neighborhood_df.values)\n",
    "neighboorhood_averages = neighboorhood_averages/neighborhood_col_non_zero\n",
    "\n",
    "##################### NEW DATA #####################\n",
    "neighboorhood_averages_ny = np.dot(y_df_ny.values,neighborhood_df_ny.values)\n",
    "neighboorhood_averages_ny = neighboorhood_averages_ny/neighborhood_col_non_zero_ny"
   ]
  },
  {
   "cell_type": "code",
   "execution_count": 55,
   "metadata": {
    "collapsed": false
   },
   "outputs": [
    {
     "name": "stdout",
     "output_type": "stream",
     "text": [
      "neighbourhood_cleansed_Amager Vest                  4.916793\n",
      "neighbourhood_cleansed_Amager st                    4.908015\n",
      "neighbourhood_cleansed_Bispebjerg                   4.860229\n",
      "neighbourhood_cleansed_Brnshj-Husum                 4.935345\n",
      "neighbourhood_cleansed_Frederiksberg                4.925965\n",
      "neighbourhood_cleansed_Indre By                     4.948940\n",
      "neighbourhood_cleansed_Nrrebro                      4.934990\n",
      "neighbourhood_cleansed_Valby                        4.897569\n",
      "neighbourhood_cleansed_Vanlse                       4.914634\n",
      "neighbourhood_cleansed_Vesterbro-Kongens Enghave    4.946708\n",
      "neighbourhood_cleansed_sterbro                      4.926288\n",
      "dtype: float64\n",
      "neighbourhood_cleansed_Allerton              5.000000\n",
      "neighbourhood_cleansed_Arden Heights         5.000000\n",
      "neighbourhood_cleansed_Arrochar              5.000000\n",
      "neighbourhood_cleansed_Arverne               4.949153\n",
      "neighbourhood_cleansed_Astoria               4.931894\n",
      "neighbourhood_cleansed_Bath Beach            5.000000\n",
      "neighbourhood_cleansed_Battery Park City     4.857143\n",
      "neighbourhood_cleansed_Bay Ridge             4.855072\n",
      "neighbourhood_cleansed_Bay Terrace           5.000000\n",
      "neighbourhood_cleansed_Baychester            4.666667\n",
      "neighbourhood_cleansed_Bayside               4.864865\n",
      "neighbourhood_cleansed_Bayswater             4.750000\n",
      "neighbourhood_cleansed_Bedford-Stuyvesant    4.882402\n",
      "neighbourhood_cleansed_Belle Harbor          5.000000\n",
      "neighbourhood_cleansed_Bellerose             5.000000\n",
      "neighbourhood_cleansed_Belmont               5.000000\n",
      "neighbourhood_cleansed_Bensonhurst           4.941176\n",
      "neighbourhood_cleansed_Bergen Beach          5.000000\n",
      "neighbourhood_cleansed_Boerum Hill           4.910569\n",
      "neighbourhood_cleansed_Borough Park          4.679245\n",
      "neighbourhood_cleansed_Briarwood             4.954545\n",
      "neighbourhood_cleansed_Brighton Beach        4.935484\n",
      "neighbourhood_cleansed_Bronxdale             4.928571\n",
      "neighbourhood_cleansed_Brooklyn Heights      4.959596\n",
      "neighbourhood_cleansed_Brownsville           4.810811\n",
      "neighbourhood_cleansed_Bushwick              4.874922\n",
      "neighbourhood_cleansed_Cambria Heights       5.000000\n",
      "neighbourhood_cleansed_Canarsie              4.898551\n",
      "neighbourhood_cleansed_Carroll Gardens       4.918033\n",
      "neighbourhood_cleansed_Castleton Corners     5.000000\n",
      "                                               ...   \n",
      "neighbourhood_cleansed_Sunnyside             4.925000\n",
      "neighbourhood_cleansed_Sunset Park           4.912664\n",
      "neighbourhood_cleansed_Theater District      4.871795\n",
      "neighbourhood_cleansed_Throgs Neck           5.000000\n",
      "neighbourhood_cleansed_Todt Hill             5.000000\n",
      "neighbourhood_cleansed_Tompkinsville         5.000000\n",
      "neighbourhood_cleansed_Tottenville           5.000000\n",
      "neighbourhood_cleansed_Tremont               5.000000\n",
      "neighbourhood_cleansed_Tribeca               4.873684\n",
      "neighbourhood_cleansed_Two Bridges           4.909091\n",
      "neighbourhood_cleansed_Unionport             5.000000\n",
      "neighbourhood_cleansed_University Heights    4.823529\n",
      "neighbourhood_cleansed_Upper East Side       4.902415\n",
      "neighbourhood_cleansed_Upper West Side       4.901294\n",
      "neighbourhood_cleansed_Van Nest              5.000000\n",
      "neighbourhood_cleansed_Vinegar Hill          4.758621\n",
      "neighbourhood_cleansed_Wakefield             4.894737\n",
      "neighbourhood_cleansed_Washington Heights    4.835703\n",
      "neighbourhood_cleansed_West Brighton         4.909091\n",
      "neighbourhood_cleansed_West Farms            5.000000\n",
      "neighbourhood_cleansed_West Village          4.919694\n",
      "neighbourhood_cleansed_Westchester Square    4.000000\n",
      "neighbourhood_cleansed_Whitestone            5.000000\n",
      "neighbourhood_cleansed_Williamsbridge        4.896552\n",
      "neighbourhood_cleansed_Williamsburg          4.918346\n",
      "neighbourhood_cleansed_Windsor Terrace       4.950820\n",
      "neighbourhood_cleansed_Woodhaven             4.833333\n",
      "neighbourhood_cleansed_Woodlawn              5.000000\n",
      "neighbourhood_cleansed_Woodrow               5.000000\n",
      "neighbourhood_cleansed_Woodside              4.914286\n",
      "Length: 208, dtype: float64\n"
     ]
    }
   ],
   "source": [
    "print neighboorhood_averages\n",
    "print neighboorhood_averages_ny"
   ]
  },
  {
   "cell_type": "code",
   "execution_count": 56,
   "metadata": {
    "collapsed": false
   },
   "outputs": [
    {
     "name": "stdout",
     "output_type": "stream",
     "text": [
      "4.92800906972\n",
      "4.90035078602\n"
     ]
    }
   ],
   "source": [
    "print inputDF.review_scores_rating.mean()\n",
    "print listing_ny.review_scores_rating.mean()"
   ]
  },
  {
   "cell_type": "code",
   "execution_count": 41,
   "metadata": {
    "collapsed": false
   },
   "outputs": [
    {
     "data": {
      "text/plain": [
       "<matplotlib.axes._subplots.AxesSubplot at 0x12297a9d0>"
      ]
     },
     "execution_count": 41,
     "metadata": {},
     "output_type": "execute_result"
    },
    {
     "data": {
      "image/png": "[encoded data removed]",
      "text/plain": [
       "<matplotlib.figure.Figure at 0x1274bded0>"
      ]
     },
     "metadata": {},
     "output_type": "display_data"
    }
   ],
   "source": [
    "neighboorhood_averages.plot(kind='bar',figsize=(10,10))"
   ]
  },
  {
   "cell_type": "code",
   "execution_count": 57,
   "metadata": {
    "collapsed": false
   },
   "outputs": [
    {
     "data": {
      "text/plain": [
       "<matplotlib.axes._subplots.AxesSubplot at 0x12a609d10>"
      ]
     },
     "execution_count": 57,
     "metadata": {},
     "output_type": "execute_result"
    },
    {
     "data": {
      "image/png": "[encoded data removed]",
      "text/plain": [
       "<matplotlib.figure.Figure at 0x12a6134d0>"
      ]
     },
     "metadata": {},
     "output_type": "display_data"
    }
   ],
   "source": [
    "neighboorhood_averages_ny.plot(kind='bar',figsize=(10,10))"
   ]
  },
  {
   "cell_type": "code",
   "execution_count": 58,
   "metadata": {
    "collapsed": false
   },
   "outputs": [],
   "source": [
    "price_vs_rating_df = inputDF[['review_scores_rating', 'price']].copy()\n",
    "correlation_features = inputDF[['price','review_scores_rating','accommodates','bathrooms','bedrooms','number_of_reviews']]"
   ]
  },
  {
   "cell_type": "code",
   "execution_count": 59,
   "metadata": {
    "collapsed": false
   },
   "outputs": [],
   "source": [
    "rating_over_price_df = price_vs_rating_df.groupby('review_scores_rating').mean()"
   ]
  },
  {
   "cell_type": "code",
   "execution_count": 128,
   "metadata": {
    "collapsed": false
   },
   "outputs": [
    {
     "data": {
      "image/png": "[encoded data removed]",
      "text/plain": [
       "<matplotlib.figure.Figure at 0x1377d4f10>"
      ]
     },
     "metadata": {},
     "output_type": "display_data"
    }
   ],
   "source": [
    "ax = rating_over_price_df.plot(kind='bar',legend=False,title='Rating vs. Price Copenhagen')\n",
    "ax.set_xlabel('Rating')\n",
    "ax.set_ylabel('Price')\n",
    "plt.savefig('Rating_vs_Price_Copenhagen.pdf')"
   ]
  },
  {
   "cell_type": "code",
   "execution_count": 61,
   "metadata": {
    "collapsed": false
   },
   "outputs": [],
   "source": [
    "neighboorhood_vs_rating_df = inputDF[['neighbourhood_cleansed', 'review_scores_rating']].copy()"
   ]
  },
  {
   "cell_type": "code",
   "execution_count": 62,
   "metadata": {
    "collapsed": false
   },
   "outputs": [],
   "source": [
    "rating_over_neighboorhood_df = neighboorhood_vs_rating_df.groupby('neighbourhood_cleansed').mean()"
   ]
  },
  {
   "cell_type": "code",
   "execution_count": 63,
   "metadata": {
    "collapsed": false
   },
   "outputs": [
    {
     "data": {
      "text/html": [
       "<div>\n",
       "<style>\n",
       "    .dataframe thead tr:only-child th {\n",
       "        text-align: right;\n",
       "    }\n",
       "\n",
       "    .dataframe thead th {\n",
       "        text-align: left;\n",
       "    }\n",
       "\n",
       "    .dataframe tbody tr th {\n",
       "        vertical-align: top;\n",
       "    }\n",
       "</style>\n",
       "<table border=\"1\" class=\"dataframe\">\n",
       "  <thead>\n",
       "    <tr style=\"text-align: right;\">\n",
       "      <th></th>\n",
       "      <th>review_scores_rating</th>\n",
       "    </tr>\n",
       "    <tr>\n",
       "      <th>neighbourhood_cleansed</th>\n",
       "      <th></th>\n",
       "    </tr>\n",
       "  </thead>\n",
       "  <tbody>\n",
       "    <tr>\n",
       "      <th>Amager Vest</th>\n",
       "      <td>4.916793</td>\n",
       "    </tr>\n",
       "    <tr>\n",
       "      <th>Amager st</th>\n",
       "      <td>4.908015</td>\n",
       "    </tr>\n",
       "    <tr>\n",
       "      <th>Bispebjerg</th>\n",
       "      <td>4.860229</td>\n",
       "    </tr>\n",
       "    <tr>\n",
       "      <th>Brnshj-Husum</th>\n",
       "      <td>4.935345</td>\n",
       "    </tr>\n",
       "    <tr>\n",
       "      <th>Frederiksberg</th>\n",
       "      <td>4.925965</td>\n",
       "    </tr>\n",
       "    <tr>\n",
       "      <th>Indre By</th>\n",
       "      <td>4.948940</td>\n",
       "    </tr>\n",
       "    <tr>\n",
       "      <th>Nrrebro</th>\n",
       "      <td>4.934990</td>\n",
       "    </tr>\n",
       "    <tr>\n",
       "      <th>Valby</th>\n",
       "      <td>4.897569</td>\n",
       "    </tr>\n",
       "    <tr>\n",
       "      <th>Vanlse</th>\n",
       "      <td>4.914634</td>\n",
       "    </tr>\n",
       "    <tr>\n",
       "      <th>Vesterbro-Kongens Enghave</th>\n",
       "      <td>4.946708</td>\n",
       "    </tr>\n",
       "    <tr>\n",
       "      <th>sterbro</th>\n",
       "      <td>4.926288</td>\n",
       "    </tr>\n",
       "  </tbody>\n",
       "</table>\n",
       "</div>"
      ],
      "text/plain": [
       "                           review_scores_rating\n",
       "neighbourhood_cleansed                         \n",
       "Amager Vest                            4.916793\n",
       "Amager st                              4.908015\n",
       "Bispebjerg                             4.860229\n",
       "Brnshj-Husum                           4.935345\n",
       "Frederiksberg                          4.925965\n",
       "Indre By                               4.948940\n",
       "Nrrebro                                4.934990\n",
       "Valby                                  4.897569\n",
       "Vanlse                                 4.914634\n",
       "Vesterbro-Kongens Enghave              4.946708\n",
       "sterbro                                4.926288"
      ]
     },
     "execution_count": 63,
     "metadata": {},
     "output_type": "execute_result"
    }
   ],
   "source": [
    "rating_over_neighboorhood_df"
   ]
  },
  {
   "cell_type": "code",
   "execution_count": 127,
   "metadata": {
    "collapsed": false
   },
   "outputs": [
    {
     "data": {
      "image/png": "[encoded data removed]",
      "text/plain": [
       "<matplotlib.figure.Figure at 0x1377e4450>"
      ]
     },
     "metadata": {},
     "output_type": "display_data"
    }
   ],
   "source": [
    "ax = rating_over_neighboorhood_df.plot(kind='bar',legend=False,title='Neighbourhood vs. Rating',figsize=(15,15))\n",
    "ax.set_xlabel('Neighbourhood')\n",
    "ax.set_ylabel('Rating')\n",
    "plt.savefig('Neighbourhood_vs_rating_Copenhagen.pdf')"
   ]
  },
  {
   "cell_type": "code",
   "execution_count": 65,
   "metadata": {
    "collapsed": true
   },
   "outputs": [],
   "source": [
    "X = X_df.values\n",
    "y = y_df.values # y has now shape (n,)\n",
    "y = y.reshape(-1,1) # y has now shape (n,1)\n",
    "####### COMPARE TO NEW CITY #########\n",
    "X_ny = X_df_ny.values\n",
    "y_ny = y_df_ny.values # y has now shape (n,)\n",
    "y_ny = y_ny.reshape(-1,1) # y has now shape (n,1)"
   ]
  },
  {
   "cell_type": "code",
   "execution_count": 66,
   "metadata": {
    "collapsed": false
   },
   "outputs": [
    {
     "data": {
      "text/plain": [
       "(30788, 254)"
      ]
     },
     "execution_count": 66,
     "metadata": {},
     "output_type": "execute_result"
    }
   ],
   "source": [
    "X_ny.shape"
   ]
  },
  {
   "cell_type": "code",
   "execution_count": 67,
   "metadata": {
    "collapsed": false
   },
   "outputs": [
    {
     "data": {
      "text/plain": [
       "(30788, 1)"
      ]
     },
     "execution_count": 67,
     "metadata": {},
     "output_type": "execute_result"
    }
   ],
   "source": [
    "y_ny.shape"
   ]
  },
  {
   "cell_type": "code",
   "execution_count": 71,
   "metadata": {
    "collapsed": true
   },
   "outputs": [],
   "source": [
    "def randomize(a, b):\n",
    "    # Generate the permutation index array.\n",
    "    permutation = np.random.permutation(a.shape[0])\n",
    "    # Shuffle the arrays by giving the permutation in the square brackets.\n",
    "    shuffled_a = a[permutation]\n",
    "    shuffled_b = a[permutation]\n",
    "    return shuffled_a, shuffled_b"
   ]
  },
  {
   "cell_type": "code",
   "execution_count": 89,
   "metadata": {
    "collapsed": true
   },
   "outputs": [],
   "source": [
    "from sklearn import linear_model\n",
    "from sklearn.model_selection import train_test_split\n",
    "from sklearn.metrics import mean_squared_error, r2_score\n",
    "\n",
    "####### Shuffle the new data set ######\n",
    "X_ny,y_ny = randomize(X,y)\n",
    "\n",
    "# create training and testing set\n",
    "X_train, X_test, y_train, y_test = train_test_split(X, y, test_size=0.1)\n",
    "X_test_len = len(X_test)\n",
    "y_test_len = len(y_test)"
   ]
  },
  {
   "cell_type": "code",
   "execution_count": 90,
   "metadata": {
    "collapsed": false
   },
   "outputs": [],
   "source": [
    "# fit a model\n",
    "lm = linear_model.LinearRegression(fit_intercept=True)\n",
    "model = lm.fit(X_train, y_train)\n",
    "y_pred = lm.predict(X_test)"
   ]
  },
  {
   "cell_type": "code",
   "execution_count": 96,
   "metadata": {
    "collapsed": false
   },
   "outputs": [
    {
     "name": "stdout",
     "output_type": "stream",
     "text": [
      "5.31065161377\n",
      "4.65196628395\n"
     ]
    }
   ],
   "source": [
    "test = (y_pred - y_test)**2\n",
    "print y_pred.max()\n",
    "print y_pred.min()\n",
    "mse_array = []"
   ]
  },
  {
   "cell_type": "code",
   "execution_count": 97,
   "metadata": {
    "collapsed": false
   },
   "outputs": [
    {
     "name": "stdout",
     "output_type": "stream",
     "text": [
      "Testing mean squared error: 0.0879481309801\n",
      "Testing variance score: 0.0230655953456\n"
     ]
    }
   ],
   "source": [
    "# The mean squared error\n",
    "print \"Testing mean squared error: {}\".format(mean_squared_error(y_test,y_pred))\n",
    "# Explained variance score: 1 is perfect prediction\n",
    "print 'Testing variance score: {}'.format(r2_score(y_test,y_pred))\n",
    "mse_array.append(mean_squared_error(y_test,y_pred))"
   ]
  },
  {
   "cell_type": "code",
   "execution_count": 126,
   "metadata": {
    "collapsed": false
   },
   "outputs": [
    {
     "data": {
      "image/png": "[encoded data removed]",
      "text/plain": [
       "<matplotlib.figure.Figure at 0x128112e50>"
      ]
     },
     "metadata": {},
     "output_type": "display_data"
    }
   ],
   "source": [
    "rating_review_count = inputDF[['number_of_reviews', 'review_scores_rating']].sort_values(by = 'review_scores_rating')\n",
    "rating_revew_count = rating_review_count.groupby('review_scores_rating').mean()\n",
    "#ax = rating_review_count.plot(kind\n",
    "#                  figsize =(12,5),\n",
    "#                  legend = False,\n",
    "#                  title = 'Number of Reviews based on star rating')\n",
    "#ax.set_xlim([0.5,5.5])\n",
    "#ax.set_xlabel('Star ratings')\n",
    "#ax.set_ylabel('Review count')\n",
    "\n",
    "\n",
    "# Pie chart, where the slices will be ordered and plotted counter-clockwise:\n",
    "labels = rating_revew_count.index\n",
    "sizes = list(rating_revew_count.values)\n",
    "labels = [str(item)+' '+'star' for item in labels]\n",
    "    \n",
    "\n",
    "fig1, ax1 = plt.subplots()\n",
    "ax1.pie(sizes, labels=labels, autopct='%1.1f%%',\n",
    "         startangle=150)\n",
    "ax1.axis('equal')  # Equal aspect ratio ensures that pie is drawn as a circle.\n",
    "fig1.set_size_inches(8, 8)\n",
    "ax1.set_title(\"Percentage of total reviews for\\n\\\n",
    "each star rating in Copenhagen\")\n",
    "plt.savefig('Piechart_Copenhagen_reviews_rating.pdf')\n",
    "plt.show()\n"
   ]
  },
  {
   "cell_type": "code",
   "execution_count": 99,
   "metadata": {
    "collapsed": false
   },
   "outputs": [
    {
     "data": {
      "text/html": [
       "<div>\n",
       "<style>\n",
       "    .dataframe thead tr:only-child th {\n",
       "        text-align: right;\n",
       "    }\n",
       "\n",
       "    .dataframe thead th {\n",
       "        text-align: left;\n",
       "    }\n",
       "\n",
       "    .dataframe tbody tr th {\n",
       "        vertical-align: top;\n",
       "    }\n",
       "</style>\n",
       "<table border=\"1\" class=\"dataframe\">\n",
       "  <thead>\n",
       "    <tr style=\"text-align: right;\">\n",
       "      <th></th>\n",
       "      <th>number_of_reviews</th>\n",
       "    </tr>\n",
       "    <tr>\n",
       "      <th>review_scores_rating</th>\n",
       "      <th></th>\n",
       "    </tr>\n",
       "  </thead>\n",
       "  <tbody>\n",
       "    <tr>\n",
       "      <th>1</th>\n",
       "      <td>1.230769</td>\n",
       "    </tr>\n",
       "    <tr>\n",
       "      <th>2</th>\n",
       "      <td>1.555556</td>\n",
       "    </tr>\n",
       "    <tr>\n",
       "      <th>3</th>\n",
       "      <td>1.647887</td>\n",
       "    </tr>\n",
       "    <tr>\n",
       "      <th>4</th>\n",
       "      <td>4.329609</td>\n",
       "    </tr>\n",
       "    <tr>\n",
       "      <th>5</th>\n",
       "      <td>14.130108</td>\n",
       "    </tr>\n",
       "  </tbody>\n",
       "</table>\n",
       "</div>"
      ],
      "text/plain": [
       "                      number_of_reviews\n",
       "review_scores_rating                   \n",
       "1                              1.230769\n",
       "2                              1.555556\n",
       "3                              1.647887\n",
       "4                              4.329609\n",
       "5                             14.130108"
      ]
     },
     "execution_count": 99,
     "metadata": {},
     "output_type": "execute_result"
    }
   ],
   "source": [
    "rating_revew_count"
   ]
  },
  {
   "cell_type": "code",
   "execution_count": 100,
   "metadata": {
    "collapsed": false
   },
   "outputs": [
    {
     "name": "stderr",
     "output_type": "stream",
     "text": [
      "/Applications/anaconda/lib/python2.7/site-packages/sklearn/cross_validation.py:41: DeprecationWarning: This module was deprecated in version 0.18 in favor of the model_selection module into which all the refactored classes and functions are moved. Also note that the interface of the new CV iterators are different from that of this module. This module will be removed in 0.20.\n",
      "  \"This module will be removed in 0.20.\", DeprecationWarning)\n"
     ]
    }
   ],
   "source": [
    "# Necessary imports: \n",
    "from sklearn.cross_validation import cross_val_score, cross_val_predict\n",
    "from sklearn import metrics"
   ]
  },
  {
   "cell_type": "code",
   "execution_count": 101,
   "metadata": {
    "collapsed": false
   },
   "outputs": [
    {
     "name": "stdout",
     "output_type": "stream",
     "text": [
      "Cross-validated scores: [ 0.02581143  0.04854416 -0.00580852  0.0215636   0.01776246  0.02727681\n",
      "  0.02213585  0.01719896  0.03401922  0.03465836]\n"
     ]
    }
   ],
   "source": [
    "# Perform 10-fold cross validation\n",
    "scores = cross_val_score(lm, X, y, cv=10)\n",
    "print 'Cross-validated scores:', scores"
   ]
  },
  {
   "cell_type": "code",
   "execution_count": 102,
   "metadata": {
    "collapsed": false
   },
   "outputs": [
    {
     "name": "stdout",
     "output_type": "stream",
     "text": [
      "Cross-Predicted Accuracy: 0.0271142752979\n"
     ]
    }
   ],
   "source": [
    "predictions = cross_val_predict(lm, X, y, cv=10)\n",
    "accuracy = metrics.r2_score(y, predictions)\n",
    "print 'Cross-Predicted Accuracy:', accuracy"
   ]
  },
  {
   "cell_type": "code",
   "execution_count": 103,
   "metadata": {
    "collapsed": false
   },
   "outputs": [
    {
     "data": {
      "text/plain": [
       "Ridge(alpha=0.5, copy_X=True, fit_intercept=True, max_iter=None,\n",
       "   normalize=False, random_state=None, solver='auto', tol=0.001)"
      ]
     },
     "execution_count": 103,
     "metadata": {},
     "output_type": "execute_result"
    }
   ],
   "source": [
    "#Ridge regression\n",
    "from sklearn import linear_model\n",
    "reg = linear_model.Ridge (alpha = .5,fit_intercept=True)\n",
    "reg.fit (X_train,y_train)"
   ]
  },
  {
   "cell_type": "code",
   "execution_count": 104,
   "metadata": {
    "collapsed": false
   },
   "outputs": [],
   "source": [
    "y_pred = reg.predict(X=X_test)"
   ]
  },
  {
   "cell_type": "code",
   "execution_count": 105,
   "metadata": {
    "collapsed": false
   },
   "outputs": [],
   "source": [
    "ridge_mse = mean_squared_error(y_pred=y_pred,y_true=y_test)"
   ]
  },
  {
   "cell_type": "code",
   "execution_count": 106,
   "metadata": {
    "collapsed": false
   },
   "outputs": [
    {
     "name": "stdout",
     "output_type": "stream",
     "text": [
      "Testing mean squared error ridge: 0.087928405916\n",
      "Testing variance score ridge: 0.0232847028299\n"
     ]
    }
   ],
   "source": [
    "# The mean squared error\n",
    "print \"Testing mean squared error ridge: {}\".format(mean_squared_error(y_test,y_pred))\n",
    "# Explained variance score: 1 is perfect prediction\n",
    "print 'Testing variance score ridge: {}'.format(r2_score(y_test,y_pred))\n",
    "mse_array.append(mean_squared_error(y_test,y_pred))"
   ]
  },
  {
   "cell_type": "code",
   "execution_count": 107,
   "metadata": {
    "collapsed": false
   },
   "outputs": [
    {
     "name": "stdout",
     "output_type": "stream",
     "text": [
      "Testing mean squared error lasso: 0.0889723595382\n",
      "Testing variance score lasso: 0.0116883880591\n"
     ]
    }
   ],
   "source": [
    "#Lasso regression\n",
    "reg_lasso = linear_model.Lasso(alpha = 0.1,fit_intercept=True)\n",
    "reg_lasso.fit(X_train,y_train)\n",
    "y_pred = reg_lasso.predict(X=X_test)\n",
    "# The mean squared error\n",
    "print \"Testing mean squared error lasso: {}\".format(mean_squared_error(y_test,y_pred))\n",
    "# Explained variance score: 1 is perfect prediction\n",
    "print 'Testing variance score lasso: {}'.format(r2_score(y_test,y_pred))\n",
    "mse_array.append(mean_squared_error(y_test,y_pred))"
   ]
  },
  {
   "cell_type": "code",
   "execution_count": 108,
   "metadata": {
    "collapsed": false
   },
   "outputs": [
    {
     "name": "stderr",
     "output_type": "stream",
     "text": [
      "/Applications/anaconda/lib/python2.7/site-packages/sklearn/utils/validation.py:578: DataConversionWarning: A column-vector y was passed when a 1d array was expected. Please change the shape of y to (n_samples, ), for example using ravel().\n",
      "  y = column_or_1d(y, warn=True)\n"
     ]
    }
   ],
   "source": [
    "from sklearn.svm import LinearSVR\n",
    "svr = LinearSVR(C=0.01,fit_intercept=True)\n",
    "svr.fit(X_train, y_train) \n",
    "y_pred = svr.predict(X_test)"
   ]
  },
  {
   "cell_type": "code",
   "execution_count": 109,
   "metadata": {
    "collapsed": false
   },
   "outputs": [
    {
     "name": "stdout",
     "output_type": "stream",
     "text": [
      "Testing mean squared error non linear SVR: 0.0958631280118\n",
      "Testing variance score nonlinear SVR: -0.0648547825732\n"
     ]
    }
   ],
   "source": [
    "# The mean squared error\n",
    "print \"Testing mean squared error non linear SVR: {}\".format(mean_squared_error(y_test,y_pred))\n",
    "# Explained variance score: 1 is perfect prediction\n",
    "print 'Testing variance score nonlinear SVR: {}'.format(r2_score(y_test,y_pred))\n",
    "mse_array.append(mean_squared_error(y_test,y_pred))"
   ]
  },
  {
   "cell_type": "code",
   "execution_count": 110,
   "metadata": {
    "collapsed": false
   },
   "outputs": [
    {
     "name": "stderr",
     "output_type": "stream",
     "text": [
      "/Applications/anaconda/lib/python2.7/site-packages/sklearn/neural_network/multilayer_perceptron.py:1306: DataConversionWarning: A column-vector y was passed when a 1d array was expected. Please change the shape of y to (n_samples, ), for example using ravel().\n",
      "  y = column_or_1d(y, warn=True)\n"
     ]
    },
    {
     "data": {
      "text/plain": [
       "MLPRegressor(activation='relu', alpha=0.001, batch_size='auto', beta_1=0.9,\n",
       "       beta_2=0.999, early_stopping=True, epsilon=1e-08,\n",
       "       hidden_layer_sizes=(4, 4, 4), learning_rate='constant',\n",
       "       learning_rate_init=0.001, max_iter=200, momentum=0.9,\n",
       "       nesterovs_momentum=True, power_t=0.5, random_state=None,\n",
       "       shuffle=True, solver='adam', tol=0.0001, validation_fraction=0.1,\n",
       "       verbose=False, warm_start=False)"
      ]
     },
     "execution_count": 110,
     "metadata": {},
     "output_type": "execute_result"
    }
   ],
   "source": [
    "from sklearn.neural_network import MLPRegressor\n",
    "nn = MLPRegressor( early_stopping=True,hidden_layer_sizes=(4,4,4),alpha=0.001)\n",
    "nn.fit(X=X_train,y=y_train)"
   ]
  },
  {
   "cell_type": "code",
   "execution_count": 111,
   "metadata": {
    "collapsed": false
   },
   "outputs": [
    {
     "name": "stdout",
     "output_type": "stream",
     "text": [
      "Testing mean squared error neural network: 0.0912516497057\n",
      "Testing variance score neural network: -0.0136301372811\n"
     ]
    }
   ],
   "source": [
    "y_pred = nn.predict(X=X_test)\n",
    "# The mean squared error\n",
    "print \"Testing mean squared error neural network: {}\".format(mean_squared_error(y_test,y_pred))\n",
    "# Explained variance score: 1 is perfect prediction\n",
    "print 'Testing variance score neural network: {}'.format(r2_score(y_test,y_pred))\n",
    "mse_array.append(mean_squared_error(y_test,y_pred))"
   ]
  },
  {
   "cell_type": "code",
   "execution_count": 112,
   "metadata": {
    "collapsed": false
   },
   "outputs": [
    {
     "name": "stderr",
     "output_type": "stream",
     "text": [
      "/Applications/anaconda/lib/python2.7/site-packages/ipykernel/__main__.py:6: DataConversionWarning: A column-vector y was passed when a 1d array was expected. Please change the shape of y to (n_samples,), for example using ravel().\n"
     ]
    },
    {
     "data": {
      "text/plain": [
       "RandomForestRegressor(bootstrap=True, criterion='mse', max_depth=5,\n",
       "           max_features='auto', max_leaf_nodes=None,\n",
       "           min_impurity_decrease=0.0, min_impurity_split=None,\n",
       "           min_samples_leaf=1, min_samples_split=2,\n",
       "           min_weight_fraction_leaf=0.0, n_estimators=10, n_jobs=1,\n",
       "           oob_score=False, random_state=0, verbose=0, warm_start=False)"
      ]
     },
     "execution_count": 112,
     "metadata": {},
     "output_type": "execute_result"
    }
   ],
   "source": [
    "from sklearn.ensemble import RandomForestRegressor\n",
    "from sklearn.datasets import make_regression\n",
    "\n",
    "\n",
    "regr_forest = RandomForestRegressor(max_depth=5, random_state=0)\n",
    "regr_forest.fit(X_train, y_train)"
   ]
  },
  {
   "cell_type": "code",
   "execution_count": 113,
   "metadata": {
    "collapsed": false
   },
   "outputs": [
    {
     "name": "stdout",
     "output_type": "stream",
     "text": [
      "Testing mean squared error neural network: 0.083914634353\n",
      "Testing variance score neural network: 0.0678699769977\n"
     ]
    }
   ],
   "source": [
    "y_pred = regr_forest.predict(X=X_test)\n",
    "# The mean squared error\n",
    "print \"Testing mean squared error neural network: {}\".format(mean_squared_error(y_test,y_pred))\n",
    "# Explained variance score: 1 is perfect prediction\n",
    "print 'Testing variance score neural network: {}'.format(r2_score(y_test,y_pred))\n",
    "mse_array.append(mean_squared_error(y_test,y_pred))"
   ]
  },
  {
   "cell_type": "code",
   "execution_count": 123,
   "metadata": {
    "collapsed": false
   },
   "outputs": [
    {
     "data": {
      "image/png": "[encoded data removed]",
      "text/plain": [
       "<matplotlib.figure.Figure at 0x127a00750>"
      ]
     },
     "metadata": {},
     "output_type": "display_data"
    }
   ],
   "source": [
    "mse_labels = ['Regression','Ridge','Lasso','SVR','NN','RF']\n",
    "performances = pd.Series(\n",
    "    list(mse_array),\n",
    "    index = mse_labels\n",
    ")\n",
    "ax1 = performances.plot(kind='bar')\n",
    "plt.title(\"MSE for different regression types\")\n",
    "ax1.set_ylim([0.0825,0.0975])\n",
    "plt.ylabel('MSE')\n",
    "plt.xlabel('Regression Methods')\n",
    "plt.savefig('Regression_Comparisons.pdf')\n",
    "plt.show()"
   ]
  },
  {
   "cell_type": "code",
   "execution_count": null,
   "metadata": {
    "collapsed": true
   },
   "outputs": [],
   "source": []
  }
 ],
 "metadata": {
  "kernelspec": {
   "display_name": "Python 2",
   "language": "python",
   "name": "python2"
  },
  "language_info": {
   "codemirror_mode": {
    "name": "ipython",
    "version": 2
   },
   "file_extension": ".py",
   "mimetype": "text/x-python",
   "name": "python",
   "nbconvert_exporter": "python",
   "pygments_lexer": "ipython2",
   "version": "2.7.13"
  }
 },
 "nbformat": 4,
 "nbformat_minor": 2
}
